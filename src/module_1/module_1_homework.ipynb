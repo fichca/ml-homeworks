{
 "cells": [
  {
   "cell_type": "markdown",
   "metadata": {
    "pycharm": {
     "name": "#%% md\n"
    }
   },
   "source": [
    "# Домашнее задание на проверку знаний библиотеки для анализа данных Pandas.\n",
    "\n",
    "Вам представлен датасет, который содержит информацию по результатам сезона 2016 года игры в бейсбол.\n",
    "\n",
    "Вам необходимо загрузить датасет (он находится в архиве с текущим домашним заданием). Провести его очистку, если это необходимо и ответить на поставленные аналитические\n",
    "вопросы.\n",
    "\n",
    "Список колонок, представленных в датасете:\n",
    "\n",
    "---\n",
    "* attendance        - количество зрителей матча\n",
    "* away_team         - название гостевой команды\n",
    "* away_team_errors  - количество ошибок гостевой команды\n",
    "* away_team_hits    - количество хитов гостевой команды (хит в бейсболе - удар при котором отбивающий достиг первой базы)\n",
    "* away_team_runs    - количество ранов гостевой команды (ран в бейсболе - очко заработанное игроком нападения)\n",
    "* date              - дата проведения матча\n",
    "* field_type        - тип игрового поля\n",
    "* game_type         - тип игры\n",
    "* home_team         - название домашней команды\n",
    "* home_team_errors  - количество ошибок домашней команды\n",
    "* home_team_hits    - количество хитов домашней команды (хит в бейсболе - удар при котором отбивающий достиг первой базы)\n",
    "* home_team_runs    - количество ранов домашней команды (ран в бейсболе - очко заработанное игроком нападения)\n",
    "* start_time        - время начала игрового матча\n",
    "* venue             - название места проведения матча (стадион, поле, арена)\n",
    "* day_of_week       - день недели проведения матча\n",
    "* temperature       - температура воздуха в день проведения матча в фаренгейтах\n",
    "* wind_speed        - скорость ветра в день проведения матча\n",
    "* wind_direction    - направление скорости ветра\n",
    "* sky               - облачность\n",
    "* total_runs        - общее количество ранов для двух команд\n",
    "* game_hours_dec    - длительность матча указаная в часах\n",
    "* season            - тип игрового сезона\n",
    "* home_team_win     - результат домашней команды (1 - выигрыш)\n",
    "* home_team_loss    - результат домашней команды (0 - проигрыш)\n",
    "* home_team_outcome - исход матча\n",
    "---\n",
    "\n",
    "Всего в задании 20 вопросов. За каждый правильный вопрос начисляется 5 баллов. Таким образом за все правильные ответы вы получите - 100 баллов. Оценка затем будет приведена к 10-ти бальной шкале.\n",
    "\n",
    "---\n",
    "\n",
    "**Кроме того, баллы могут быть снижены за**:\n",
    "\n",
    "- 1 балл снижается за качество кода - старайтесь чтобы код был максимально лаконичным. Названия переменных (если они используются) должны отражать максимальную ее сущность. Вывод старайтесь делать минимальным, так как первичная цель - сделать качественный анализ, чтобы быстро ответить на поставленный вопрос (никаких таблиц на 100 строк)."
   ]
  },
  {
   "cell_type": "code",
   "execution_count": 307,
   "metadata": {
    "pycharm": {
     "name": "#%%\n"
    },
    "ExecuteTime": {
     "end_time": "2024-11-07T17:25:22.278332Z",
     "start_time": "2024-11-07T17:25:22.274698Z"
    }
   },
   "outputs": [],
   "source": [
    "# Импортируйте все необходимые библиотеки и модули которые вам необходимы\n",
    "import pandas as pd"
   ]
  },
  {
   "cell_type": "code",
   "execution_count": 308,
   "metadata": {
    "pycharm": {
     "name": "#%%\n"
    },
    "ExecuteTime": {
     "end_time": "2024-11-07T17:25:22.531697Z",
     "start_time": "2024-11-07T17:25:22.460285Z"
    }
   },
   "outputs": [
    {
     "name": "stdout",
     "output_type": "stream",
     "text": [
      "<class 'pandas.core.frame.DataFrame'>\n",
      "RangeIndex: 2463 entries, 0 to 2462\n",
      "Data columns (total 26 columns):\n",
      " #   Column             Non-Null Count  Dtype         \n",
      "---  ------             --------------  -----         \n",
      " 0   Unnamed: 0         2463 non-null   int64         \n",
      " 1   attendance         2460 non-null   float64       \n",
      " 2   away_team          2463 non-null   object        \n",
      " 3   away_team_errors   2463 non-null   int64         \n",
      " 4   away_team_hits     2463 non-null   int64         \n",
      " 5   away_team_runs     2463 non-null   int64         \n",
      " 6   date               2463 non-null   datetime64[ns]\n",
      " 7   field_type         2463 non-null   object        \n",
      " 8   game_type          2463 non-null   object        \n",
      " 9   home_team          2463 non-null   object        \n",
      " 10  home_team_errors   2463 non-null   int64         \n",
      " 11  home_team_hits     2463 non-null   int64         \n",
      " 12  home_team_runs     2463 non-null   int64         \n",
      " 13  start_time         2463 non-null   object        \n",
      " 14  venue              2463 non-null   object        \n",
      " 15  day_of_week        2463 non-null   object        \n",
      " 16  temperature        2463 non-null   float64       \n",
      " 17  wind_speed         2463 non-null   float64       \n",
      " 18  wind_direction     2463 non-null   object        \n",
      " 19  sky                2463 non-null   object        \n",
      " 20  total_runs         2463 non-null   int64         \n",
      " 21  game_hours_dec     2463 non-null   float64       \n",
      " 22  season             2463 non-null   object        \n",
      " 23  home_team_win      2463 non-null   int64         \n",
      " 24  home_team_loss     2463 non-null   int64         \n",
      " 25  home_team_outcome  2463 non-null   object        \n",
      "dtypes: datetime64[ns](1), float64(4), int64(10), object(11)\n",
      "memory usage: 500.4+ KB\n"
     ]
    },
    {
     "data": {
      "text/plain": "        Unnamed: 0    attendance  away_team_errors  away_team_hits  \\\ncount  2463.000000   2460.000000       2463.000000     2463.000000   \nmean   1231.000000  30370.703659          0.580593        8.764515   \nmin       0.000000   8766.000000          0.000000        1.000000   \n25%     615.500000  22432.000000          0.000000        6.000000   \n50%    1231.000000  30604.500000          0.000000        8.000000   \n75%    1846.500000  38396.250000          1.000000       11.000000   \nmax    2462.000000  54449.000000          5.000000       22.000000   \nstd     711.151179   9875.466703          0.793391        3.511581   \n\n       away_team_runs                           date  home_team_errors  \\\ncount     2463.000000                           2463       2463.000000   \nmean         4.413723  2016-07-05 11:00:39.464068096          0.585871   \nmin          0.000000            2016-04-03 00:00:00          0.000000   \n25%          2.000000            2016-05-20 00:00:00          0.000000   \n50%          4.000000            2016-07-04 00:00:00          0.000000   \n75%          6.000000            2016-08-21 00:00:00          1.000000   \nmax         21.000000            2016-11-02 00:00:00          5.000000   \nstd          3.104556                            NaN          0.805542   \n\n       home_team_hits  home_team_runs  temperature   wind_speed   total_runs  \\\ncount     2463.000000     2463.000000  2463.000000  2463.000000  2463.000000   \nmean         8.611855        4.519691    73.818920     7.494925     8.933415   \nmin          0.000000        0.000000    31.000000     0.000000     1.000000   \n25%          6.000000        2.000000    67.000000     4.000000     6.000000   \n50%          8.000000        4.000000    74.000000     7.000000     8.000000   \n75%         11.000000        6.000000    81.000000    11.000000    12.000000   \nmax         22.000000       17.000000   101.000000    25.000000    29.000000   \nstd          3.436965        3.111572    10.583106     5.055970     4.480352   \n\n       game_hours_dec  home_team_win  home_team_loss  \ncount     2463.000000    2463.000000     2463.000000  \nmean         3.085302       0.529436        0.470158  \nmin          1.250000       0.000000        0.000000  \n25%          2.783333       0.000000        0.000000  \n50%          3.033333       1.000000        0.000000  \n75%          3.308333       1.000000        1.000000  \nmax          6.216667       1.000000        1.000000  \nstd          0.460491       0.499234        0.499210  ",
      "text/html": "<div>\n<style scoped>\n    .dataframe tbody tr th:only-of-type {\n        vertical-align: middle;\n    }\n\n    .dataframe tbody tr th {\n        vertical-align: top;\n    }\n\n    .dataframe thead th {\n        text-align: right;\n    }\n</style>\n<table border=\"1\" class=\"dataframe\">\n  <thead>\n    <tr style=\"text-align: right;\">\n      <th></th>\n      <th>Unnamed: 0</th>\n      <th>attendance</th>\n      <th>away_team_errors</th>\n      <th>away_team_hits</th>\n      <th>away_team_runs</th>\n      <th>date</th>\n      <th>home_team_errors</th>\n      <th>home_team_hits</th>\n      <th>home_team_runs</th>\n      <th>temperature</th>\n      <th>wind_speed</th>\n      <th>total_runs</th>\n      <th>game_hours_dec</th>\n      <th>home_team_win</th>\n      <th>home_team_loss</th>\n    </tr>\n  </thead>\n  <tbody>\n    <tr>\n      <th>count</th>\n      <td>2463.000000</td>\n      <td>2460.000000</td>\n      <td>2463.000000</td>\n      <td>2463.000000</td>\n      <td>2463.000000</td>\n      <td>2463</td>\n      <td>2463.000000</td>\n      <td>2463.000000</td>\n      <td>2463.000000</td>\n      <td>2463.000000</td>\n      <td>2463.000000</td>\n      <td>2463.000000</td>\n      <td>2463.000000</td>\n      <td>2463.000000</td>\n      <td>2463.000000</td>\n    </tr>\n    <tr>\n      <th>mean</th>\n      <td>1231.000000</td>\n      <td>30370.703659</td>\n      <td>0.580593</td>\n      <td>8.764515</td>\n      <td>4.413723</td>\n      <td>2016-07-05 11:00:39.464068096</td>\n      <td>0.585871</td>\n      <td>8.611855</td>\n      <td>4.519691</td>\n      <td>73.818920</td>\n      <td>7.494925</td>\n      <td>8.933415</td>\n      <td>3.085302</td>\n      <td>0.529436</td>\n      <td>0.470158</td>\n    </tr>\n    <tr>\n      <th>min</th>\n      <td>0.000000</td>\n      <td>8766.000000</td>\n      <td>0.000000</td>\n      <td>1.000000</td>\n      <td>0.000000</td>\n      <td>2016-04-03 00:00:00</td>\n      <td>0.000000</td>\n      <td>0.000000</td>\n      <td>0.000000</td>\n      <td>31.000000</td>\n      <td>0.000000</td>\n      <td>1.000000</td>\n      <td>1.250000</td>\n      <td>0.000000</td>\n      <td>0.000000</td>\n    </tr>\n    <tr>\n      <th>25%</th>\n      <td>615.500000</td>\n      <td>22432.000000</td>\n      <td>0.000000</td>\n      <td>6.000000</td>\n      <td>2.000000</td>\n      <td>2016-05-20 00:00:00</td>\n      <td>0.000000</td>\n      <td>6.000000</td>\n      <td>2.000000</td>\n      <td>67.000000</td>\n      <td>4.000000</td>\n      <td>6.000000</td>\n      <td>2.783333</td>\n      <td>0.000000</td>\n      <td>0.000000</td>\n    </tr>\n    <tr>\n      <th>50%</th>\n      <td>1231.000000</td>\n      <td>30604.500000</td>\n      <td>0.000000</td>\n      <td>8.000000</td>\n      <td>4.000000</td>\n      <td>2016-07-04 00:00:00</td>\n      <td>0.000000</td>\n      <td>8.000000</td>\n      <td>4.000000</td>\n      <td>74.000000</td>\n      <td>7.000000</td>\n      <td>8.000000</td>\n      <td>3.033333</td>\n      <td>1.000000</td>\n      <td>0.000000</td>\n    </tr>\n    <tr>\n      <th>75%</th>\n      <td>1846.500000</td>\n      <td>38396.250000</td>\n      <td>1.000000</td>\n      <td>11.000000</td>\n      <td>6.000000</td>\n      <td>2016-08-21 00:00:00</td>\n      <td>1.000000</td>\n      <td>11.000000</td>\n      <td>6.000000</td>\n      <td>81.000000</td>\n      <td>11.000000</td>\n      <td>12.000000</td>\n      <td>3.308333</td>\n      <td>1.000000</td>\n      <td>1.000000</td>\n    </tr>\n    <tr>\n      <th>max</th>\n      <td>2462.000000</td>\n      <td>54449.000000</td>\n      <td>5.000000</td>\n      <td>22.000000</td>\n      <td>21.000000</td>\n      <td>2016-11-02 00:00:00</td>\n      <td>5.000000</td>\n      <td>22.000000</td>\n      <td>17.000000</td>\n      <td>101.000000</td>\n      <td>25.000000</td>\n      <td>29.000000</td>\n      <td>6.216667</td>\n      <td>1.000000</td>\n      <td>1.000000</td>\n    </tr>\n    <tr>\n      <th>std</th>\n      <td>711.151179</td>\n      <td>9875.466703</td>\n      <td>0.793391</td>\n      <td>3.511581</td>\n      <td>3.104556</td>\n      <td>NaN</td>\n      <td>0.805542</td>\n      <td>3.436965</td>\n      <td>3.111572</td>\n      <td>10.583106</td>\n      <td>5.055970</td>\n      <td>4.480352</td>\n      <td>0.460491</td>\n      <td>0.499234</td>\n      <td>0.499210</td>\n    </tr>\n  </tbody>\n</table>\n</div>"
     },
     "execution_count": 308,
     "metadata": {},
     "output_type": "execute_result"
    }
   ],
   "source": [
    "# Загрузите датасет и проведите его очистку и форматирование если это необходимо\n",
    "data = pd.read_csv('./data/baseball_games.csv', delimiter=',')\n",
    "data.drop_duplicates(inplace=True)\n",
    "data['date'] = pd.to_datetime(data['date'])\n",
    "data.info()\n",
    "data.describe()"
   ]
  },
  {
   "cell_type": "markdown",
   "source": [
    "* Загрузил baseball_games.csv. \n",
    "* Удалил дубликаты.\n",
    "* Колонку дата конвертнул в datetime. \n",
    "* Вывел инфу и описание"
   ],
   "metadata": {
    "collapsed": false
   }
  },
  {
   "cell_type": "markdown",
   "metadata": {
    "pycharm": {
     "name": "#%% md\n"
    }
   },
   "source": [
    "# 1. На какую игру пришло максимальное количество зрителей за весь сезон игр?"
   ]
  },
  {
   "cell_type": "markdown",
   "source": [
    "* Достал айди максимального значения столбца 'attendance'.\n",
    "* Отобразил значение строки"
   ],
   "metadata": {
    "collapsed": false
   }
  },
  {
   "cell_type": "code",
   "execution_count": 309,
   "metadata": {
    "pycharm": {
     "name": "#%%\n"
    },
    "ExecuteTime": {
     "end_time": "2024-11-07T17:25:22.541337Z",
     "start_time": "2024-11-07T17:25:22.532917Z"
    }
   },
   "outputs": [
    {
     "data": {
      "text/plain": "Unnamed: 0                           358\nattendance                       54449.0\naway_team                   Chicago Cubs\naway_team_errors                       0\naway_team_hits                        13\naway_team_runs                         8\ndate                 2016-10-20 00:00:00\nfield_type                      on grass\ngame_type                     Night Game\nhome_team            Los Angeles Dodgers\nhome_team_errors                       1\nhome_team_hits                         9\nhome_team_runs                         4\nstart_time               8:09 p.m. Local\nvenue                     Dodger Stadium\nday_of_week                     Thursday\ntemperature                         89.0\nwind_speed                           7.0\nwind_direction        out to Centerfield\nsky                                Night\ntotal_runs                            12\ngame_hours_dec                  4.266667\nseason                       post season\nhome_team_win                          0\nhome_team_loss                         1\nhome_team_outcome                   Loss\nName: 358, dtype: object"
     },
     "execution_count": 309,
     "metadata": {},
     "output_type": "execute_result"
    }
   ],
   "source": [
    "data.loc[data['attendance'].idxmax()]"
   ]
  },
  {
   "cell_type": "markdown",
   "metadata": {
    "pycharm": {
     "name": "#%% md\n"
    }
   },
   "source": [
    "# 2. Какая игра была самая холодная (temperature) за весь сезон?"
   ]
  },
  {
   "cell_type": "markdown",
   "source": [
    "* Достал айди минимального значения столбца 'temperature'.\n",
    "* Отобразил значение строки."
   ],
   "metadata": {
    "collapsed": false
   }
  },
  {
   "cell_type": "code",
   "execution_count": 310,
   "metadata": {
    "pycharm": {
     "name": "#%%\n"
    },
    "ExecuteTime": {
     "end_time": "2024-11-07T17:25:22.548465Z",
     "start_time": "2024-11-07T17:25:22.542433Z"
    }
   },
   "outputs": [
    {
     "data": {
      "text/plain": "Unnamed: 0                          2409\nattendance                       32419.0\naway_team               New York Yankees\naway_team_errors                       1\naway_team_hits                        13\naway_team_runs                         8\ndate                 2016-04-09 00:00:00\nfield_type                      on grass\ngame_type                       Day Game\nhome_team                 Detroit Tigers\nhome_team_errors                       1\nhome_team_hits                         7\nhome_team_runs                         4\nstart_time               1:10 p.m. Local\nvenue                      Comerica Park\nday_of_week                     Saturday\ntemperature                         31.0\nwind_speed                          18.0\nwind_direction        from Left to Right\nsky                               Cloudy\ntotal_runs                            12\ngame_hours_dec                  3.333333\nseason                    regular season\nhome_team_win                          0\nhome_team_loss                         1\nhome_team_outcome                   Loss\nName: 2409, dtype: object"
     },
     "execution_count": 310,
     "metadata": {},
     "output_type": "execute_result"
    }
   ],
   "source": [
    "data.loc[data['temperature'].idxmin()]"
   ]
  },
  {
   "cell_type": "markdown",
   "metadata": {
    "pycharm": {
     "name": "#%% md\n"
    }
   },
   "source": [
    "# 3. Какая игра была самая теплая за весь сезон?"
   ]
  },
  {
   "cell_type": "markdown",
   "source": [
    "* Достал айди максимального значения столбца 'temperature'.\n",
    "* Отобразил значение строки."
   ],
   "metadata": {
    "collapsed": false
   }
  },
  {
   "cell_type": "code",
   "execution_count": 311,
   "metadata": {
    "pycharm": {
     "name": "#%%\n"
    },
    "ExecuteTime": {
     "end_time": "2024-11-07T17:25:22.557895Z",
     "start_time": "2024-11-07T17:25:22.551954Z"
    }
   },
   "outputs": [
    {
     "data": {
      "text/plain": "Unnamed: 0                            2026\nattendance                         21753.0\naway_team             San Francisco Giants\naway_team_errors                         0\naway_team_hits                           8\naway_team_runs                           3\ndate                   2016-05-13 00:00:00\nfield_type                        on grass\ngame_type                       Night Game\nhome_team             Arizona Diamondbacks\nhome_team_errors                         0\nhome_team_hits                           8\nhome_team_runs                           1\nstart_time                 6:40 p.m. Local\nvenue                          Chase Field\nday_of_week                         Friday\ntemperature                          101.0\nwind_speed                             9.0\nwind_direction        in unknown direction\nsky                                  Sunny\ntotal_runs                               4\ngame_hours_dec                         3.0\nseason                      regular season\nhome_team_win                            0\nhome_team_loss                           1\nhome_team_outcome                     Loss\nName: 2026, dtype: object"
     },
     "execution_count": 311,
     "metadata": {},
     "output_type": "execute_result"
    }
   ],
   "source": [
    "data.loc[data['temperature'].idxmax()]"
   ]
  },
  {
   "cell_type": "markdown",
   "metadata": {
    "pycharm": {
     "name": "#%% md\n"
    }
   },
   "source": [
    "# 4. Какая игра в сезоне была самая долгая по продолжительности матча?"
   ]
  },
  {
   "cell_type": "markdown",
   "source": [
    "* Добавил фильтр на regular season и максимальное значение game_hours_dec"
   ],
   "metadata": {
    "collapsed": false
   }
  },
  {
   "cell_type": "code",
   "execution_count": 312,
   "metadata": {
    "pycharm": {
     "name": "#%%\n"
    },
    "ExecuteTime": {
     "end_time": "2024-11-07T17:25:22.587478Z",
     "start_time": "2024-11-07T17:25:22.568082Z"
    }
   },
   "outputs": [
    {
     "data": {
      "text/plain": "      Unnamed: 0  attendance          away_team  away_team_errors  \\\n1445        1445     45825.0  Cleveland Indians                 0   \n\n      away_team_hits  away_team_runs       date field_type game_type  \\\n1445              15               2 2016-07-01    on turf  Day Game   \n\n              home_team  ...  temperature  wind_speed         wind_direction  \\\n1445  Toronto Blue Jays  ...         68.0         0.0   in unknown direction   \n\n          sky total_runs game_hours_dec          season  home_team_win  \\\n1445  In Dome          3       6.216667  regular season              0   \n\n     home_team_loss home_team_outcome  \n1445              1              Loss  \n\n[1 rows x 26 columns]",
      "text/html": "<div>\n<style scoped>\n    .dataframe tbody tr th:only-of-type {\n        vertical-align: middle;\n    }\n\n    .dataframe tbody tr th {\n        vertical-align: top;\n    }\n\n    .dataframe thead th {\n        text-align: right;\n    }\n</style>\n<table border=\"1\" class=\"dataframe\">\n  <thead>\n    <tr style=\"text-align: right;\">\n      <th></th>\n      <th>Unnamed: 0</th>\n      <th>attendance</th>\n      <th>away_team</th>\n      <th>away_team_errors</th>\n      <th>away_team_hits</th>\n      <th>away_team_runs</th>\n      <th>date</th>\n      <th>field_type</th>\n      <th>game_type</th>\n      <th>home_team</th>\n      <th>...</th>\n      <th>temperature</th>\n      <th>wind_speed</th>\n      <th>wind_direction</th>\n      <th>sky</th>\n      <th>total_runs</th>\n      <th>game_hours_dec</th>\n      <th>season</th>\n      <th>home_team_win</th>\n      <th>home_team_loss</th>\n      <th>home_team_outcome</th>\n    </tr>\n  </thead>\n  <tbody>\n    <tr>\n      <th>1445</th>\n      <td>1445</td>\n      <td>45825.0</td>\n      <td>Cleveland Indians</td>\n      <td>0</td>\n      <td>15</td>\n      <td>2</td>\n      <td>2016-07-01</td>\n      <td>on turf</td>\n      <td>Day Game</td>\n      <td>Toronto Blue Jays</td>\n      <td>...</td>\n      <td>68.0</td>\n      <td>0.0</td>\n      <td>in unknown direction</td>\n      <td>In Dome</td>\n      <td>3</td>\n      <td>6.216667</td>\n      <td>regular season</td>\n      <td>0</td>\n      <td>1</td>\n      <td>Loss</td>\n    </tr>\n  </tbody>\n</table>\n<p>1 rows × 26 columns</p>\n</div>"
     },
     "execution_count": 312,
     "metadata": {},
     "output_type": "execute_result"
    }
   ],
   "source": [
    "data[((data['season'] == 'regular season') & (data['game_hours_dec'] == data['game_hours_dec'].max()))]"
   ]
  },
  {
   "cell_type": "markdown",
   "metadata": {
    "pycharm": {
     "name": "#%% md\n"
    }
   },
   "source": [
    "# 5. Какая игра в сезоне была самая короткая по продолжительности матча?"
   ]
  },
  {
   "cell_type": "markdown",
   "source": [
    "* Добавил фильтр на regular season и минимальное значение game_hours_dec"
   ],
   "metadata": {
    "collapsed": false
   }
  },
  {
   "cell_type": "code",
   "execution_count": 313,
   "metadata": {
    "pycharm": {
     "name": "#%%\n"
    },
    "ExecuteTime": {
     "end_time": "2024-11-07T17:25:22.613727Z",
     "start_time": "2024-11-07T17:25:22.588555Z"
    }
   },
   "outputs": [
    {
     "data": {
      "text/plain": "     Unnamed: 0  attendance     away_team  away_team_errors  away_team_hits  \\\n423         423     19991.0  Chicago Cubs                 1               4   \n\n     away_team_runs       date field_type   game_type           home_team  \\\n423               1 2016-09-29   on grass  Night Game  Pittsburgh Pirates   \n\n     ...  temperature  wind_speed      wind_direction       sky total_runs  \\\n423  ...         63.0        12.0   in from Leftfield  Overcast          2   \n\n    game_hours_dec          season  home_team_win home_team_loss  \\\n423           1.25  regular season              0              0   \n\n    home_team_outcome  \n423              Loss  \n\n[1 rows x 26 columns]",
      "text/html": "<div>\n<style scoped>\n    .dataframe tbody tr th:only-of-type {\n        vertical-align: middle;\n    }\n\n    .dataframe tbody tr th {\n        vertical-align: top;\n    }\n\n    .dataframe thead th {\n        text-align: right;\n    }\n</style>\n<table border=\"1\" class=\"dataframe\">\n  <thead>\n    <tr style=\"text-align: right;\">\n      <th></th>\n      <th>Unnamed: 0</th>\n      <th>attendance</th>\n      <th>away_team</th>\n      <th>away_team_errors</th>\n      <th>away_team_hits</th>\n      <th>away_team_runs</th>\n      <th>date</th>\n      <th>field_type</th>\n      <th>game_type</th>\n      <th>home_team</th>\n      <th>...</th>\n      <th>temperature</th>\n      <th>wind_speed</th>\n      <th>wind_direction</th>\n      <th>sky</th>\n      <th>total_runs</th>\n      <th>game_hours_dec</th>\n      <th>season</th>\n      <th>home_team_win</th>\n      <th>home_team_loss</th>\n      <th>home_team_outcome</th>\n    </tr>\n  </thead>\n  <tbody>\n    <tr>\n      <th>423</th>\n      <td>423</td>\n      <td>19991.0</td>\n      <td>Chicago Cubs</td>\n      <td>1</td>\n      <td>4</td>\n      <td>1</td>\n      <td>2016-09-29</td>\n      <td>on grass</td>\n      <td>Night Game</td>\n      <td>Pittsburgh Pirates</td>\n      <td>...</td>\n      <td>63.0</td>\n      <td>12.0</td>\n      <td>in from Leftfield</td>\n      <td>Overcast</td>\n      <td>2</td>\n      <td>1.25</td>\n      <td>regular season</td>\n      <td>0</td>\n      <td>0</td>\n      <td>Loss</td>\n    </tr>\n  </tbody>\n</table>\n<p>1 rows × 26 columns</p>\n</div>"
     },
     "execution_count": 313,
     "metadata": {},
     "output_type": "execute_result"
    }
   ],
   "source": [
    "data[((data['season'] == 'regular season') & (data['game_hours_dec'] == data['game_hours_dec'].min()))]"
   ]
  },
  {
   "cell_type": "markdown",
   "metadata": {
    "pycharm": {
     "name": "#%% md\n"
    }
   },
   "source": [
    "# 6. Сколько матчей в сезоне закончилось ничьей?"
   ]
  },
  {
   "cell_type": "markdown",
   "source": [
    "* Добавил фильтр на regular season и team_win = team_loss"
   ],
   "metadata": {
    "collapsed": false
   }
  },
  {
   "cell_type": "code",
   "execution_count": 314,
   "metadata": {
    "pycharm": {
     "name": "#%%\n"
    },
    "ExecuteTime": {
     "end_time": "2024-11-07T17:25:22.696678Z",
     "start_time": "2024-11-07T17:25:22.676827Z"
    }
   },
   "outputs": [
    {
     "data": {
      "text/plain": "     Unnamed: 0  attendance     away_team  away_team_errors  away_team_hits  \\\n423         423     19991.0  Chicago Cubs                 1               4   \n\n     away_team_runs       date field_type   game_type           home_team  \\\n423               1 2016-09-29   on grass  Night Game  Pittsburgh Pirates   \n\n     ...  temperature  wind_speed      wind_direction       sky total_runs  \\\n423  ...         63.0        12.0   in from Leftfield  Overcast          2   \n\n    game_hours_dec          season  home_team_win home_team_loss  \\\n423           1.25  regular season              0              0   \n\n    home_team_outcome  \n423              Loss  \n\n[1 rows x 26 columns]",
      "text/html": "<div>\n<style scoped>\n    .dataframe tbody tr th:only-of-type {\n        vertical-align: middle;\n    }\n\n    .dataframe tbody tr th {\n        vertical-align: top;\n    }\n\n    .dataframe thead th {\n        text-align: right;\n    }\n</style>\n<table border=\"1\" class=\"dataframe\">\n  <thead>\n    <tr style=\"text-align: right;\">\n      <th></th>\n      <th>Unnamed: 0</th>\n      <th>attendance</th>\n      <th>away_team</th>\n      <th>away_team_errors</th>\n      <th>away_team_hits</th>\n      <th>away_team_runs</th>\n      <th>date</th>\n      <th>field_type</th>\n      <th>game_type</th>\n      <th>home_team</th>\n      <th>...</th>\n      <th>temperature</th>\n      <th>wind_speed</th>\n      <th>wind_direction</th>\n      <th>sky</th>\n      <th>total_runs</th>\n      <th>game_hours_dec</th>\n      <th>season</th>\n      <th>home_team_win</th>\n      <th>home_team_loss</th>\n      <th>home_team_outcome</th>\n    </tr>\n  </thead>\n  <tbody>\n    <tr>\n      <th>423</th>\n      <td>423</td>\n      <td>19991.0</td>\n      <td>Chicago Cubs</td>\n      <td>1</td>\n      <td>4</td>\n      <td>1</td>\n      <td>2016-09-29</td>\n      <td>on grass</td>\n      <td>Night Game</td>\n      <td>Pittsburgh Pirates</td>\n      <td>...</td>\n      <td>63.0</td>\n      <td>12.0</td>\n      <td>in from Leftfield</td>\n      <td>Overcast</td>\n      <td>2</td>\n      <td>1.25</td>\n      <td>regular season</td>\n      <td>0</td>\n      <td>0</td>\n      <td>Loss</td>\n    </tr>\n  </tbody>\n</table>\n<p>1 rows × 26 columns</p>\n</div>"
     },
     "execution_count": 314,
     "metadata": {},
     "output_type": "execute_result"
    }
   ],
   "source": [
    "data.loc[((data['season'] == 'regular season') & ((data['home_team_win'] == 0) & (data['home_team_loss'] == 0)) |\n",
    "         ((data['home_team_win'] == 1) & (data['home_team_loss'] == 1)))]\n"
   ]
  },
  {
   "cell_type": "markdown",
   "metadata": {
    "pycharm": {
     "name": "#%% md\n"
    }
   },
   "source": [
    "# 7. Какая игра была последней в сезоне?"
   ]
  },
  {
   "cell_type": "markdown",
   "source": [
    "* Отфильтровал по regular season\n",
    "* Достал последнюю дату "
   ],
   "metadata": {
    "collapsed": false
   }
  },
  {
   "cell_type": "code",
   "execution_count": 315,
   "metadata": {
    "pycharm": {
     "name": "#%%\n"
    },
    "ExecuteTime": {
     "end_time": "2024-11-07T17:25:22.754964Z",
     "start_time": "2024-11-07T17:25:22.745386Z"
    }
   },
   "outputs": [
    {
     "data": {
      "text/plain": "Unnamed: 0                            349\nattendance                        28730.0\naway_team                   Miami Marlins\naway_team_errors                        0\naway_team_hits                         14\naway_team_runs                          7\ndate                  2016-10-02 00:00:00\nfield_type                       on grass\ngame_type                        Day Game\nhome_team            Washington Nationals\nhome_team_errors                        0\nhome_team_hits                         10\nhome_team_runs                         10\nstart_time                3:06 p.m. Local\nvenue                      Nationals Park\nday_of_week                        Sunday\ntemperature                          73.0\nwind_speed                            2.0\nwind_direction         from Left to Right\nsky                              Overcast\ntotal_runs                             17\ngame_hours_dec                        3.6\nseason                     regular season\nhome_team_win                           1\nhome_team_loss                          0\nhome_team_outcome                     Win\nName: 349, dtype: object"
     },
     "execution_count": 315,
     "metadata": {},
     "output_type": "execute_result"
    }
   ],
   "source": [
    "regular_season_data = data[data['season'] == 'regular season']\n",
    "regular_season_data.loc[regular_season_data['date'].idxmax()]\n"
   ]
  },
  {
   "cell_type": "markdown",
   "metadata": {
    "pycharm": {
     "name": "#%% md\n"
    }
   },
   "source": [
    "# 8. У какой игры было минимальное количество зрителей?"
   ]
  },
  {
   "cell_type": "markdown",
   "source": [
    "* Достал индекс минимального значения из колонки attendance\n",
    "* Достал игру по индексу "
   ],
   "metadata": {
    "collapsed": false
   }
  },
  {
   "cell_type": "code",
   "execution_count": 316,
   "metadata": {
    "pycharm": {
     "name": "#%%\n"
    },
    "ExecuteTime": {
     "end_time": "2024-11-07T17:25:22.895957Z",
     "start_time": "2024-11-07T17:25:22.890133Z"
    }
   },
   "outputs": [
    {
     "data": {
      "text/plain": "Unnamed: 0                          2130\nattendance                        8766.0\naway_team                 Detroit Tigers\naway_team_errors                       0\naway_team_hits                         5\naway_team_runs                         0\ndate                 2016-05-04 00:00:00\nfield_type                      on grass\ngame_type                     Night Game\nhome_team              Cleveland Indians\nhome_team_errors                       0\nhome_team_hits                         5\nhome_team_runs                         4\nstart_time               6:10 p.m. Local\nvenue                  Progressive Field\nday_of_week                    Wednesday\ntemperature                         54.0\nwind_speed                          11.0\nwind_direction        from Left to Right\nsky                             Overcast\ntotal_runs                             4\ngame_hours_dec                  2.316667\nseason                    regular season\nhome_team_win                          1\nhome_team_loss                         0\nhome_team_outcome                    Win\nName: 2130, dtype: object"
     },
     "execution_count": 316,
     "metadata": {},
     "output_type": "execute_result"
    }
   ],
   "source": [
    "data.loc[data['attendance'].idxmin()]\n"
   ]
  },
  {
   "cell_type": "markdown",
   "metadata": {
    "pycharm": {
     "name": "#%% md\n"
    }
   },
   "source": [
    "# 9. Какая игра в сезоне была самая ветренная?"
   ]
  },
  {
   "cell_type": "markdown",
   "source": [
    "* Отфильтровал по regular season\n",
    "* Нашел максимальную скорость ветра в regular season\n",
    "* Вывел все самые ветреные игры"
   ],
   "metadata": {
    "collapsed": false
   }
  },
  {
   "cell_type": "code",
   "execution_count": 317,
   "metadata": {
    "pycharm": {
     "name": "#%%\n"
    },
    "ExecuteTime": {
     "end_time": "2024-11-07T17:25:23.045462Z",
     "start_time": "2024-11-07T17:25:23.016186Z"
    }
   },
   "outputs": [
    {
     "data": {
      "text/plain": "      Unnamed: 0  attendance          away_team  away_team_errors  \\\n1655        1655     41543.0  Milwaukee Brewers                 1   \n2005        2005     35736.0     Houston Astros                 2   \n\n      away_team_hits  away_team_runs       date field_type   game_type  \\\n1655              11               5 2016-06-13   on grass  Night Game   \n2005               8               9 2016-05-15   on grass    Day Game   \n\n                 home_team  ...  temperature  wind_speed       wind_direction  \\\n1655  San Francisco Giants  ...         58.0        25.0   out to Centerfield   \n2005        Boston Red Sox  ...         58.0        25.0    out to Rightfield   \n\n         sky total_runs game_hours_dec          season  home_team_win  \\\n1655  Cloudy         16       3.633333  regular season              1   \n2005  Cloudy         19       3.666667  regular season              1   \n\n     home_team_loss home_team_outcome  \n1655              0               Win  \n2005              0               Win  \n\n[2 rows x 26 columns]",
      "text/html": "<div>\n<style scoped>\n    .dataframe tbody tr th:only-of-type {\n        vertical-align: middle;\n    }\n\n    .dataframe tbody tr th {\n        vertical-align: top;\n    }\n\n    .dataframe thead th {\n        text-align: right;\n    }\n</style>\n<table border=\"1\" class=\"dataframe\">\n  <thead>\n    <tr style=\"text-align: right;\">\n      <th></th>\n      <th>Unnamed: 0</th>\n      <th>attendance</th>\n      <th>away_team</th>\n      <th>away_team_errors</th>\n      <th>away_team_hits</th>\n      <th>away_team_runs</th>\n      <th>date</th>\n      <th>field_type</th>\n      <th>game_type</th>\n      <th>home_team</th>\n      <th>...</th>\n      <th>temperature</th>\n      <th>wind_speed</th>\n      <th>wind_direction</th>\n      <th>sky</th>\n      <th>total_runs</th>\n      <th>game_hours_dec</th>\n      <th>season</th>\n      <th>home_team_win</th>\n      <th>home_team_loss</th>\n      <th>home_team_outcome</th>\n    </tr>\n  </thead>\n  <tbody>\n    <tr>\n      <th>1655</th>\n      <td>1655</td>\n      <td>41543.0</td>\n      <td>Milwaukee Brewers</td>\n      <td>1</td>\n      <td>11</td>\n      <td>5</td>\n      <td>2016-06-13</td>\n      <td>on grass</td>\n      <td>Night Game</td>\n      <td>San Francisco Giants</td>\n      <td>...</td>\n      <td>58.0</td>\n      <td>25.0</td>\n      <td>out to Centerfield</td>\n      <td>Cloudy</td>\n      <td>16</td>\n      <td>3.633333</td>\n      <td>regular season</td>\n      <td>1</td>\n      <td>0</td>\n      <td>Win</td>\n    </tr>\n    <tr>\n      <th>2005</th>\n      <td>2005</td>\n      <td>35736.0</td>\n      <td>Houston Astros</td>\n      <td>2</td>\n      <td>8</td>\n      <td>9</td>\n      <td>2016-05-15</td>\n      <td>on grass</td>\n      <td>Day Game</td>\n      <td>Boston Red Sox</td>\n      <td>...</td>\n      <td>58.0</td>\n      <td>25.0</td>\n      <td>out to Rightfield</td>\n      <td>Cloudy</td>\n      <td>19</td>\n      <td>3.666667</td>\n      <td>regular season</td>\n      <td>1</td>\n      <td>0</td>\n      <td>Win</td>\n    </tr>\n  </tbody>\n</table>\n<p>2 rows × 26 columns</p>\n</div>"
     },
     "execution_count": 317,
     "metadata": {},
     "output_type": "execute_result"
    }
   ],
   "source": [
    "regular_season_data = data[data['season'] == 'regular season']\n",
    "max_wind_speed = regular_season_data['wind_speed'].max()\n",
    "regular_season_data[regular_season_data['wind_speed'] == max_wind_speed]"
   ]
  },
  {
   "cell_type": "markdown",
   "metadata": {
    "pycharm": {
     "name": "#%% md\n"
    }
   },
   "source": [
    "# 10. В какой игре получили максимальное количество очков?"
   ]
  },
  {
   "cell_type": "markdown",
   "source": [
    "* Вывел через idxmax и total_runs игру "
   ],
   "metadata": {
    "collapsed": false
   }
  },
  {
   "cell_type": "code",
   "execution_count": 318,
   "metadata": {
    "pycharm": {
     "name": "#%%\n"
    },
    "ExecuteTime": {
     "end_time": "2024-11-07T17:25:23.243995Z",
     "start_time": "2024-11-07T17:25:23.234878Z"
    }
   },
   "outputs": [
    {
     "data": {
      "text/plain": "Unnamed: 0                          1788\nattendance                       22588.0\naway_team               Seattle Mariners\naway_team_errors                       1\naway_team_hits                        16\naway_team_runs                        16\ndate                 2016-06-02 00:00:00\nfield_type                      on grass\ngame_type                     Night Game\nhome_team               San Diego Padres\nhome_team_errors                       1\nhome_team_hits                        20\nhome_team_runs                        13\nstart_time               6:10 p.m. Local\nvenue                         Petco Park\nday_of_week                     Thursday\ntemperature                         76.0\nwind_speed                          10.0\nwind_direction         out to Rightfield\nsky                                Sunny\ntotal_runs                            29\ngame_hours_dec                  3.833333\nseason                    regular season\nhome_team_win                          0\nhome_team_loss                         1\nhome_team_outcome                   Loss\nName: 1788, dtype: object"
     },
     "execution_count": 318,
     "metadata": {},
     "output_type": "execute_result"
    }
   ],
   "source": [
    "data.loc[data['total_runs'].idxmax()]"
   ]
  },
  {
   "cell_type": "markdown",
   "metadata": {
    "pycharm": {
     "name": "#%% md\n"
    }
   },
   "source": [
    "# 11. Какая игра содержала максимальное количество ошибок домашней команды?"
   ]
  },
  {
   "cell_type": "markdown",
   "source": [
    "* Отфильтровал по убыванию home_team_errors и вывел топ 1  "
   ],
   "metadata": {
    "collapsed": false
   }
  },
  {
   "cell_type": "code",
   "execution_count": 319,
   "metadata": {
    "pycharm": {
     "name": "#%%\n"
    },
    "ExecuteTime": {
     "end_time": "2024-11-07T17:25:23.335007Z",
     "start_time": "2024-11-07T17:25:23.316918Z"
    }
   },
   "outputs": [
    {
     "data": {
      "text/plain": "      Unnamed: 0  attendance             away_team  away_team_errors  \\\n1178        1178     22581.0  Arizona Diamondbacks                 1   \n\n      away_team_hits  away_team_runs       date field_type   game_type  \\\n1178              11               8 2016-07-27   on grass  Night Game   \n\n              home_team  ...  temperature  wind_speed      wind_direction  \\\n1178  Milwaukee Brewers  ...         77.0         9.0   in from Leftfield   \n\n         sky total_runs game_hours_dec          season  home_team_win  \\\n1178  Cloudy          9       2.933333  regular season              0   \n\n     home_team_loss home_team_outcome  \n1178              1              Loss  \n\n[1 rows x 26 columns]",
      "text/html": "<div>\n<style scoped>\n    .dataframe tbody tr th:only-of-type {\n        vertical-align: middle;\n    }\n\n    .dataframe tbody tr th {\n        vertical-align: top;\n    }\n\n    .dataframe thead th {\n        text-align: right;\n    }\n</style>\n<table border=\"1\" class=\"dataframe\">\n  <thead>\n    <tr style=\"text-align: right;\">\n      <th></th>\n      <th>Unnamed: 0</th>\n      <th>attendance</th>\n      <th>away_team</th>\n      <th>away_team_errors</th>\n      <th>away_team_hits</th>\n      <th>away_team_runs</th>\n      <th>date</th>\n      <th>field_type</th>\n      <th>game_type</th>\n      <th>home_team</th>\n      <th>...</th>\n      <th>temperature</th>\n      <th>wind_speed</th>\n      <th>wind_direction</th>\n      <th>sky</th>\n      <th>total_runs</th>\n      <th>game_hours_dec</th>\n      <th>season</th>\n      <th>home_team_win</th>\n      <th>home_team_loss</th>\n      <th>home_team_outcome</th>\n    </tr>\n  </thead>\n  <tbody>\n    <tr>\n      <th>1178</th>\n      <td>1178</td>\n      <td>22581.0</td>\n      <td>Arizona Diamondbacks</td>\n      <td>1</td>\n      <td>11</td>\n      <td>8</td>\n      <td>2016-07-27</td>\n      <td>on grass</td>\n      <td>Night Game</td>\n      <td>Milwaukee Brewers</td>\n      <td>...</td>\n      <td>77.0</td>\n      <td>9.0</td>\n      <td>in from Leftfield</td>\n      <td>Cloudy</td>\n      <td>9</td>\n      <td>2.933333</td>\n      <td>regular season</td>\n      <td>0</td>\n      <td>1</td>\n      <td>Loss</td>\n    </tr>\n  </tbody>\n</table>\n<p>1 rows × 26 columns</p>\n</div>"
     },
     "execution_count": 319,
     "metadata": {},
     "output_type": "execute_result"
    }
   ],
   "source": [
    "data.sort_values('home_team_errors', ascending=False).head(1)"
   ]
  },
  {
   "cell_type": "markdown",
   "metadata": {
    "pycharm": {
     "name": "#%% md\n"
    }
   },
   "source": [
    "# 12. В какой игре было максимальное количество ранов?"
   ]
  },
  {
   "cell_type": "markdown",
   "source": [
    "* Создал новую колонку total_hits со значениями home_team_hits + away_team_hits\n",
    "* Нашел строку с максимальным total_hits\n",
    "* Удалил колонку total_hits\n",
    "* Вывел результат "
   ],
   "metadata": {
    "collapsed": false
   }
  },
  {
   "cell_type": "code",
   "execution_count": 320,
   "metadata": {
    "pycharm": {
     "name": "#%%\n"
    },
    "ExecuteTime": {
     "end_time": "2024-11-07T17:25:23.399315Z",
     "start_time": "2024-11-07T17:25:23.390816Z"
    }
   },
   "outputs": [
    {
     "data": {
      "text/plain": "Unnamed: 0                          1413\nattendance                       36253.0\naway_team                  Texas Rangers\naway_team_errors                       0\naway_team_hits                        16\naway_team_runs                         5\ndate                 2016-07-04 00:00:00\nfield_type                      on grass\ngame_type                       Day Game\nhome_team                 Boston Red Sox\nhome_team_errors                       2\nhome_team_hits                        21\nhome_team_runs                        12\nstart_time               1:37 p.m. Local\nvenue                        Fenway Park\nday_of_week                       Monday\ntemperature                         84.0\nwind_speed                          11.0\nwind_direction        out to Centerfield\nsky                               Cloudy\ntotal_runs                            17\ngame_hours_dec                  3.666667\nseason                    regular season\nhome_team_win                          1\nhome_team_loss                         0\nhome_team_outcome                    Win\ntotal_hits                            37\nName: 1413, dtype: object"
     },
     "execution_count": 320,
     "metadata": {},
     "output_type": "execute_result"
    }
   ],
   "source": [
    "data['total_hits'] = data['home_team_hits'] + data['away_team_hits']\n",
    "game_with_most_hits = data.loc[data['total_hits'].idxmax()]\n",
    "data = data.drop(columns=['total_hits'])\n",
    "game_with_most_hits"
   ]
  },
  {
   "cell_type": "markdown",
   "metadata": {
    "pycharm": {
     "name": "#%% md\n"
    }
   },
   "source": [
    "# 13. Выведите количество игр которая сыграла каждая команда в данном сезоне?"
   ]
  },
  {
   "cell_type": "markdown",
   "source": [
    "* Отфильтровал по regular season\n",
    "* Достал все данные из колонок away_team и home_team\n",
    "* Соединил данные и вывел количество повторений  "
   ],
   "metadata": {
    "collapsed": false
   }
  },
  {
   "cell_type": "code",
   "execution_count": 321,
   "metadata": {
    "pycharm": {
     "name": "#%%\n"
    },
    "ExecuteTime": {
     "end_time": "2024-11-07T17:25:23.459077Z",
     "start_time": "2024-11-07T17:25:23.445590Z"
    }
   },
   "outputs": [
    {
     "data": {
      "text/plain": "Kansas City Royals               162\nPhiladelphia Phillies            162\nLos Angeles Dodgers              162\nBoston Red Sox                   162\nChicago White Sox                162\nSan Francisco Giants             162\nSt. Louis Cardinals              162\nToronto Blue Jays                162\nWashington Nationals             162\nColorado Rockies                 162\nChicago Cubs                     162\nHouston Astros                   162\nMinnesota Twins                  162\nCincinnati Reds                  162\nNew York Mets                    162\nSeattle Mariners                 162\nMilwaukee Brewers                162\nNew York Yankees                 162\nOakland Athletics                162\nPittsburgh Pirates               162\nSan Diego Padres                 162\nTampa Bay Rays                   162\nTexas Rangers                    162\nArizona Diamondbacks             162\nBaltimore Orioles                162\nLos Angeles Angels of Anaheim    162\nMiami Marlins                    161\nDetroit Tigers                   161\nAtlanta Braves                   161\nCleveland Indians                161\nName: count, dtype: int64"
     },
     "execution_count": 321,
     "metadata": {},
     "output_type": "execute_result"
    }
   ],
   "source": [
    "regular_season_data = data.loc[data['season'] == 'regular season']\n",
    "home_team = regular_season_data['home_team']\n",
    "away_team = regular_season_data['away_team']\n",
    "pd.concat([home_team, away_team]).value_counts()"
   ]
  },
  {
   "cell_type": "markdown",
   "metadata": {
    "pycharm": {
     "name": "#%% md\n"
    }
   },
   "source": [
    "# 14. Какая команда выиграла наибольшое количество матчей в сезоне? (Будьте внимательны с типом матча в сезоне - season)."
   ]
  },
  {
   "cell_type": "markdown",
   "source": [
    "* Фильтрация победивших команд в домашнем матче\n",
    "* Фильтрация победивших команд в выездном матче\n",
    "* Объединение результатов выигрышных матчей по команде и нахождение количества \n",
    "* Вывод команды с максимальным повторением "
   ],
   "metadata": {
    "collapsed": false
   }
  },
  {
   "cell_type": "code",
   "execution_count": 322,
   "metadata": {
    "pycharm": {
     "name": "#%%\n"
    },
    "ExecuteTime": {
     "end_time": "2024-11-07T17:25:23.556149Z",
     "start_time": "2024-11-07T17:25:23.547552Z"
    }
   },
   "outputs": [
    {
     "name": "stdout",
     "output_type": "stream",
     "text": [
      "Team: Chicago Cubs, wins: 104\n"
     ]
    }
   ],
   "source": [
    "home_winners = data.loc[((data['season'] == 'regular season') & (data['home_team_outcome'] == 'Win')), 'home_team']\n",
    "away_winners = data.loc[((data['season'] == 'regular season') & (data['home_team_outcome'] == 'Loss')), 'away_team']\n",
    "\n",
    "counts = pd.concat([home_winners, away_winners]).value_counts()\n",
    "\n",
    "team = counts.idxmax()\n",
    "win_count = counts.loc[counts.idxmax()]\n",
    "print(f\"Team: {team}, wins: {win_count}\")"
   ]
  },
  {
   "cell_type": "markdown",
   "metadata": {
    "pycharm": {
     "name": "#%% md\n"
    }
   },
   "source": [
    "# 15. Какая команда выиграла наибольшее количество домашних матчей в сезоне?"
   ]
  },
  {
   "cell_type": "markdown",
   "source": [
    "* Фильтрация по season и home_team_outcome\n",
    "* Подсчет количества побед для каждой команды \n",
    "* Поиск команды с макс количеством подеб\n",
    "* Вывод"
   ],
   "metadata": {
    "collapsed": false
   }
  },
  {
   "cell_type": "code",
   "execution_count": 323,
   "metadata": {
    "pycharm": {
     "name": "#%%\n"
    },
    "ExecuteTime": {
     "end_time": "2024-11-07T17:25:23.617747Z",
     "start_time": "2024-11-07T17:25:23.610247Z"
    }
   },
   "outputs": [
    {
     "name": "stdout",
     "output_type": "stream",
     "text": [
      "Team: Chicago Cubs, wins: 57\n"
     ]
    }
   ],
   "source": [
    "home_winners = data.loc[((data['season'] == 'regular season') & (data['home_team_outcome'] == 'Win')), 'home_team']\n",
    "\n",
    "counts = home_winners.value_counts()\n",
    "team = counts.idxmax()\n",
    "win_count = counts.loc[counts.idxmax()]\n",
    "print(f\"Team: {team}, wins: {win_count}\")"
   ]
  },
  {
   "cell_type": "markdown",
   "metadata": {
    "pycharm": {
     "name": "#%% md\n"
    }
   },
   "source": [
    "# 16. Какая команда выиграла наибольшее количество гостевых матчей в сезоне?"
   ]
  },
  {
   "cell_type": "markdown",
   "source": [
    "Тоже что и в 15, только находим через Loss"
   ],
   "metadata": {
    "collapsed": false
   }
  },
  {
   "cell_type": "code",
   "execution_count": 324,
   "metadata": {
    "pycharm": {
     "name": "#%%\n"
    },
    "ExecuteTime": {
     "end_time": "2024-11-07T17:25:23.736967Z",
     "start_time": "2024-11-07T17:25:23.730063Z"
    }
   },
   "outputs": [
    {
     "name": "stdout",
     "output_type": "stream",
     "text": [
      "Team: Chicago Cubs, wins: 57\n"
     ]
    }
   ],
   "source": [
    "home_winners = data.loc[((data['season'] == 'regular season') & (data['home_team_outcome'] == 'Loss')), 'away_team']\n",
    "team = counts.idxmax()\n",
    "win_count = counts.loc[counts.idxmax()]\n",
    "print(f\"Team: {team}, wins: {win_count}\")"
   ]
  },
  {
   "cell_type": "markdown",
   "metadata": {
    "pycharm": {
     "name": "#%% md\n"
    }
   },
   "source": [
    "# 17. Какая команда проиграла наибольшее количество матчей в сезоне?"
   ]
  },
  {
   "cell_type": "markdown",
   "source": [
    "* Собираем данные с двух столбцов home_team и away_team с проигрышами\n",
    "* Соединяем и высчитываем количество уникальных значений\n",
    "* Выводим"
   ],
   "metadata": {
    "collapsed": false
   }
  },
  {
   "cell_type": "markdown",
   "source": [],
   "metadata": {
    "collapsed": false
   }
  },
  {
   "cell_type": "code",
   "execution_count": 325,
   "metadata": {
    "pycharm": {
     "name": "#%%\n"
    },
    "ExecuteTime": {
     "end_time": "2024-11-07T17:25:23.778469Z",
     "start_time": "2024-11-07T17:25:23.769403Z"
    }
   },
   "outputs": [
    {
     "name": "stdout",
     "output_type": "stream",
     "text": [
      "Team: Minnesota Twins, loss: 103\n"
     ]
    }
   ],
   "source": [
    "# №1\n",
    "home_lossers = data.loc[((data['season'] == 'regular season') & (data['home_team_outcome'] == 'Loss')), 'home_team']\n",
    "away_lossers = data.loc[((data['season'] == 'regular season') & (data['home_team_outcome'] == 'Win')), 'away_team']\n",
    "counts = pd.concat([home_lossers, away_lossers]).value_counts()\n",
    "print(f\"Team: {counts.idxmax()}, loss: {counts.loc[counts.idxmax()]}\")"
   ]
  },
  {
   "cell_type": "markdown",
   "source": [
    "Более сложный способ"
   ],
   "metadata": {
    "collapsed": false
   }
  },
  {
   "cell_type": "code",
   "outputs": [
    {
     "name": "stdout",
     "output_type": "stream",
     "text": [
      "Team: Minnesota Twins, loss: 103\n"
     ]
    }
   ],
   "source": [
    "# №2\n",
    "regular_season = data[data['season'] == 'regular season']\n",
    "home_losses = regular_season[regular_season['home_team_outcome'] == 'Loss'].groupby('home_team').size().reset_index(\n",
    "    name='losses')\n",
    "away_losses = regular_season[regular_season['home_team_outcome'] == 'Win'].groupby('away_team').size().reset_index(\n",
    "    name='losses')\n",
    "home_losses.rename(columns={'home_team': 'team'}, inplace=True)\n",
    "away_losses.rename(columns={'away_team': 'team'}, inplace=True)\n",
    "total_losses = pd.concat([home_losses, away_losses])\n",
    "team_losses = total_losses.groupby('team')['losses'].sum().reset_index()\n",
    "max_losses_team = team_losses.loc[team_losses['losses'].idxmax()]\n",
    "\n",
    "print(f\"Team: {max_losses_team[\"team\"]}, loss: {max_losses_team[\"losses\"]}\")"
   ],
   "metadata": {
    "collapsed": false,
    "ExecuteTime": {
     "end_time": "2024-11-07T17:25:23.861519Z",
     "start_time": "2024-11-07T17:25:23.840817Z"
    }
   },
   "execution_count": 326
  },
  {
   "cell_type": "markdown",
   "metadata": {
    "pycharm": {
     "name": "#%% md\n"
    }
   },
   "source": [
    "# 18. Зависит ли выигрыш от количества посетителей матча? (https://pandas.pydata.org/docs/reference/api/pandas.DataFrame.cov.html)"
   ]
  },
  {
   "cell_type": "markdown",
   "source": [
    "Есть очень слабая положительная корреляция 0.045, есть небольшая взаимосвязь. Ковариация 224.97 и когда количество зрителей увеличивается, результат будет изменяться. Но тк корреляция близкая к 0 влияние зрителей маленькая."
   ],
   "metadata": {
    "collapsed": false
   }
  },
  {
   "cell_type": "code",
   "execution_count": 327,
   "metadata": {
    "pycharm": {
     "name": "#%%\n"
    },
    "ExecuteTime": {
     "end_time": "2024-11-07T17:25:23.883249Z",
     "start_time": "2024-11-07T17:25:23.869071Z"
    }
   },
   "outputs": [
    {
     "name": "stdout",
     "output_type": "stream",
     "text": [
      "Корреляция: 0.04563075365707344, ковариация: 224.97187335720471\n"
     ]
    }
   ],
   "source": [
    "df = data[['attendance', 'home_team_outcome']].copy()\n",
    "df['result'] = df['home_team_outcome'].map({'Win': 1, 'Loss': 0})\n",
    "correlation = df[['attendance', 'result']].corr().iloc[0, 1]\n",
    "covariance = df[['attendance', 'result']].cov().iloc[0, 1]\n",
    "print(f\"Корреляция: {correlation}, ковариация: {covariance}\")"
   ]
  },
  {
   "cell_type": "markdown",
   "metadata": {
    "pycharm": {
     "name": "#%% md\n"
    }
   },
   "source": [
    "# 19. Правда ли что большинство проигрышных домашних матчей приходятся на Субботу и Воскресенье?"
   ]
  },
  {
   "cell_type": "markdown",
   "source": [
    "* Фильтруем  по Loss \n",
    "* Находим количество проигранных по каждому дню\n",
    "* Находим количество матчей проигранных на выходных\n",
    "* Находим общее количество матчей\n",
    "* Сравниваем "
   ],
   "metadata": {
    "collapsed": false
   }
  },
  {
   "cell_type": "code",
   "execution_count": 328,
   "metadata": {
    "pycharm": {
     "name": "#%%\n"
    },
    "ExecuteTime": {
     "end_time": "2024-11-07T17:25:23.901613Z",
     "start_time": "2024-11-07T17:25:23.891002Z"
    }
   },
   "outputs": [
    {
     "name": "stdout",
     "output_type": "stream",
     "text": [
      "Это ложь!\n"
     ]
    }
   ],
   "source": [
    "df = data[data['home_team_outcome'] == 'Loss']\n",
    "loss_counts_by_day = data['day_of_week'].value_counts()\n",
    "weekend_losses = loss_counts_by_day.get('Saturday', 0) + loss_counts_by_day.get('Sunday', 0)\n",
    "total_losses = loss_counts_by_day.sum()\n",
    "if weekend_losses > total_losses - weekend_losses:\n",
    "    print('Это правда!')\n",
    "else:\n",
    "    print('Это ложь!')"
   ]
  },
  {
   "cell_type": "markdown",
   "metadata": {
    "pycharm": {
     "name": "#%% md\n"
    }
   },
   "source": [
    "# 20. Правда ли что наибольшее количество ранов происходит в холодную погоду? (Холодной погодой считается погода ниже 0 градусов)"
   ]
  },
  {
   "cell_type": "markdown",
   "source": [
    "Выборка турниров с холодной погодой крайне мала(1 турнир) чтобы делать выводы"
   ],
   "metadata": {
    "collapsed": false
   }
  },
  {
   "cell_type": "code",
   "execution_count": 329,
   "metadata": {
    "pycharm": {
     "name": "#%%\n"
    },
    "ExecuteTime": {
     "end_time": "2024-11-07T17:25:23.968118Z",
     "start_time": "2024-11-07T17:25:23.957398Z"
    }
   },
   "outputs": [
    {
     "name": "stdout",
     "output_type": "stream",
     "text": [
      "Теплая погода: количество турниров: 2462, хитов в среднем: 17.3753046303818. Холодная погода: количество турниров: 1, хитов в среднем: 20.0.\n"
     ]
    }
   ],
   "source": [
    "data['sum_team_hits'] = data['away_team_hits'] + data['home_team_hits']\n",
    "data_cold = data[data['temperature'] < 32]\n",
    "data_hot = data[data['temperature'] >= 32]\n",
    "count_hot = len(data_hot)\n",
    "count_cold = len(data_cold)\n",
    "\n",
    "hits_hot_mean = data_hot['sum_team_hits'].mean()\n",
    "hits_cold_mean = data_cold['sum_team_hits'].mean()\n",
    "data = data.drop(columns=['sum_team_hits'])\n",
    "print(f\"Теплая погода: количество турниров: {count_hot}, хитов в среднем: {hits_hot_mean}. Холодная погода: количество турниров: {count_cold}, хитов в среднем: {hits_cold_mean}.\")"
   ]
  },
  {
   "cell_type": "code",
   "outputs": [],
   "source": [],
   "metadata": {
    "collapsed": false,
    "ExecuteTime": {
     "end_time": "2024-11-07T17:25:23.988472Z",
     "start_time": "2024-11-07T17:25:23.986033Z"
    }
   },
   "execution_count": 329
  }
 ],
 "metadata": {
  "kernelspec": {
   "display_name": "Python 3 (ipykernel)",
   "language": "python",
   "name": "python3"
  },
  "language_info": {
   "codemirror_mode": {
    "name": "ipython",
    "version": 3
   },
   "file_extension": ".py",
   "mimetype": "text/x-python",
   "name": "python",
   "nbconvert_exporter": "python",
   "pygments_lexer": "ipython3",
   "version": "3.12.7"
  }
 },
 "nbformat": 4,
 "nbformat_minor": 4
}
